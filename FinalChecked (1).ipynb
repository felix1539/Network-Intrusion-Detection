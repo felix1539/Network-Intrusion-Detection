{
  "nbformat": 4,
  "nbformat_minor": 0,
  "metadata": {
    "colab": {
      "provenance": []
    },
    "kernelspec": {
      "name": "python3",
      "display_name": "Python 3"
    },
    "language_info": {
      "name": "python"
    }
  },
  "cells": [
    {
      "cell_type": "code",
      "execution_count": 1,
      "metadata": {
        "id": "DiBi2siANC0C"
      },
      "outputs": [],
      "source": [
        "! pip install -q kaggle"
      ]
    },
    {
      "cell_type": "code",
      "source": [
        "#mount drive with colab\n",
        "from google.colab import drive\n",
        "drive.mount('/content/drive')"
      ],
      "metadata": {
        "id": "hPCE955MNr5k"
      },
      "execution_count": null,
      "outputs": []
    },
    {
      "cell_type": "code",
      "source": [
        "! mkdir ~/.kaggle"
      ],
      "metadata": {
        "id": "OZ9Txam_NuKw"
      },
      "execution_count": 4,
      "outputs": []
    },
    {
      "cell_type": "code",
      "source": [
        "!cp /content/drive/MyDrive/Kaggle/kaggle.json ~/.kaggle/kaggle.json"
      ],
      "metadata": {
        "id": "lWOExe6jN8uH"
      },
      "execution_count": 5,
      "outputs": []
    },
    {
      "cell_type": "code",
      "source": [
        "!chmod 600 ~/.kaggle/kaggle.json"
      ],
      "metadata": {
        "id": "Joarr16sOB93"
      },
      "execution_count": 6,
      "outputs": []
    },
    {
      "cell_type": "code",
      "source": [
        "!kaggle datasets download -d sampadab17/network-intrusion-detection"
      ],
      "metadata": {
        "colab": {
          "base_uri": "https://localhost:8080/"
        },
        "id": "2S40-hmnOFZw",
        "outputId": "00ab5802-3e71-4d55-b27e-b6ff9b676519"
      },
      "execution_count": 7,
      "outputs": [
        {
          "output_type": "stream",
          "name": "stdout",
          "text": [
            "Downloading network-intrusion-detection.zip to /content\n",
            "\r  0% 0.00/818k [00:00<?, ?B/s]\n",
            "\r100% 818k/818k [00:00<00:00, 139MB/s]\n"
          ]
        }
      ]
    },
    {
      "cell_type": "code",
      "source": [
        "!unzip network-intrusion-detection.zip"
      ],
      "metadata": {
        "colab": {
          "base_uri": "https://localhost:8080/"
        },
        "id": "YQly3AAwOHPQ",
        "outputId": "d261b049-0b94-4504-fc6b-5f880559b430"
      },
      "execution_count": 8,
      "outputs": [
        {
          "output_type": "stream",
          "name": "stdout",
          "text": [
            "Archive:  network-intrusion-detection.zip\n",
            "  inflating: Test_data.csv           \n",
            "  inflating: Train_data.csv          \n"
          ]
        }
      ]
    },
    {
      "cell_type": "code",
      "source": [
        "import sklearn\n",
        "import tensorflow as tf\n",
        "import pandas as pd\n",
        "import seaborn as sns\n",
        "from matplotlib import pyplot as plt\n",
        "from keras.models import Sequential\n",
        "from keras.layers import Dense, Activation\n",
        "from keras.wrappers.scikit_learn import KerasClassifier\n",
        "from sklearn import preprocessing\n",
        "from sklearn.preprocessing import LabelEncoder\n",
        "\n",
        "\n",
        "import warnings\n",
        "warnings.filterwarnings('ignore')"
      ],
      "metadata": {
        "id": "kpniiiWjONgv"
      },
      "execution_count": 9,
      "outputs": []
    },
    {
      "cell_type": "code",
      "source": [
        "df = pd.read_csv(\"/content/Train_data.csv\")"
      ],
      "metadata": {
        "id": "0FVftBBQOSHR"
      },
      "execution_count": 10,
      "outputs": []
    },
    {
      "cell_type": "code",
      "source": [
        "df.head(5)"
      ],
      "metadata": {
        "colab": {
          "base_uri": "https://localhost:8080/",
          "height": 300
        },
        "id": "f_9E9VnIOU9I",
        "outputId": "58c0f2c2-0619-44b8-8f6e-3b36c437e6dc"
      },
      "execution_count": 11,
      "outputs": [
        {
          "output_type": "execute_result",
          "data": {
            "text/plain": [
              "   duration protocol_type   service flag  src_bytes  dst_bytes  land  \\\n",
              "0         0           tcp  ftp_data   SF        491          0     0   \n",
              "1         0           udp     other   SF        146          0     0   \n",
              "2         0           tcp   private   S0          0          0     0   \n",
              "3         0           tcp      http   SF        232       8153     0   \n",
              "4         0           tcp      http   SF        199        420     0   \n",
              "\n",
              "   wrong_fragment  urgent  hot  ...  dst_host_srv_count  \\\n",
              "0               0       0    0  ...                  25   \n",
              "1               0       0    0  ...                   1   \n",
              "2               0       0    0  ...                  26   \n",
              "3               0       0    0  ...                 255   \n",
              "4               0       0    0  ...                 255   \n",
              "\n",
              "   dst_host_same_srv_rate  dst_host_diff_srv_rate  \\\n",
              "0                    0.17                    0.03   \n",
              "1                    0.00                    0.60   \n",
              "2                    0.10                    0.05   \n",
              "3                    1.00                    0.00   \n",
              "4                    1.00                    0.00   \n",
              "\n",
              "   dst_host_same_src_port_rate  dst_host_srv_diff_host_rate  \\\n",
              "0                         0.17                         0.00   \n",
              "1                         0.88                         0.00   \n",
              "2                         0.00                         0.00   \n",
              "3                         0.03                         0.04   \n",
              "4                         0.00                         0.00   \n",
              "\n",
              "   dst_host_serror_rate  dst_host_srv_serror_rate  dst_host_rerror_rate  \\\n",
              "0                  0.00                      0.00                  0.05   \n",
              "1                  0.00                      0.00                  0.00   \n",
              "2                  1.00                      1.00                  0.00   \n",
              "3                  0.03                      0.01                  0.00   \n",
              "4                  0.00                      0.00                  0.00   \n",
              "\n",
              "   dst_host_srv_rerror_rate    class  \n",
              "0                      0.00   normal  \n",
              "1                      0.00   normal  \n",
              "2                      0.00  anomaly  \n",
              "3                      0.01   normal  \n",
              "4                      0.00   normal  \n",
              "\n",
              "[5 rows x 42 columns]"
            ],
            "text/html": [
              "\n",
              "  <div id=\"df-8a5a4189-f5f2-472e-a165-50ea44d2c1f6\">\n",
              "    <div class=\"colab-df-container\">\n",
              "      <div>\n",
              "<style scoped>\n",
              "    .dataframe tbody tr th:only-of-type {\n",
              "        vertical-align: middle;\n",
              "    }\n",
              "\n",
              "    .dataframe tbody tr th {\n",
              "        vertical-align: top;\n",
              "    }\n",
              "\n",
              "    .dataframe thead th {\n",
              "        text-align: right;\n",
              "    }\n",
              "</style>\n",
              "<table border=\"1\" class=\"dataframe\">\n",
              "  <thead>\n",
              "    <tr style=\"text-align: right;\">\n",
              "      <th></th>\n",
              "      <th>duration</th>\n",
              "      <th>protocol_type</th>\n",
              "      <th>service</th>\n",
              "      <th>flag</th>\n",
              "      <th>src_bytes</th>\n",
              "      <th>dst_bytes</th>\n",
              "      <th>land</th>\n",
              "      <th>wrong_fragment</th>\n",
              "      <th>urgent</th>\n",
              "      <th>hot</th>\n",
              "      <th>...</th>\n",
              "      <th>dst_host_srv_count</th>\n",
              "      <th>dst_host_same_srv_rate</th>\n",
              "      <th>dst_host_diff_srv_rate</th>\n",
              "      <th>dst_host_same_src_port_rate</th>\n",
              "      <th>dst_host_srv_diff_host_rate</th>\n",
              "      <th>dst_host_serror_rate</th>\n",
              "      <th>dst_host_srv_serror_rate</th>\n",
              "      <th>dst_host_rerror_rate</th>\n",
              "      <th>dst_host_srv_rerror_rate</th>\n",
              "      <th>class</th>\n",
              "    </tr>\n",
              "  </thead>\n",
              "  <tbody>\n",
              "    <tr>\n",
              "      <th>0</th>\n",
              "      <td>0</td>\n",
              "      <td>tcp</td>\n",
              "      <td>ftp_data</td>\n",
              "      <td>SF</td>\n",
              "      <td>491</td>\n",
              "      <td>0</td>\n",
              "      <td>0</td>\n",
              "      <td>0</td>\n",
              "      <td>0</td>\n",
              "      <td>0</td>\n",
              "      <td>...</td>\n",
              "      <td>25</td>\n",
              "      <td>0.17</td>\n",
              "      <td>0.03</td>\n",
              "      <td>0.17</td>\n",
              "      <td>0.00</td>\n",
              "      <td>0.00</td>\n",
              "      <td>0.00</td>\n",
              "      <td>0.05</td>\n",
              "      <td>0.00</td>\n",
              "      <td>normal</td>\n",
              "    </tr>\n",
              "    <tr>\n",
              "      <th>1</th>\n",
              "      <td>0</td>\n",
              "      <td>udp</td>\n",
              "      <td>other</td>\n",
              "      <td>SF</td>\n",
              "      <td>146</td>\n",
              "      <td>0</td>\n",
              "      <td>0</td>\n",
              "      <td>0</td>\n",
              "      <td>0</td>\n",
              "      <td>0</td>\n",
              "      <td>...</td>\n",
              "      <td>1</td>\n",
              "      <td>0.00</td>\n",
              "      <td>0.60</td>\n",
              "      <td>0.88</td>\n",
              "      <td>0.00</td>\n",
              "      <td>0.00</td>\n",
              "      <td>0.00</td>\n",
              "      <td>0.00</td>\n",
              "      <td>0.00</td>\n",
              "      <td>normal</td>\n",
              "    </tr>\n",
              "    <tr>\n",
              "      <th>2</th>\n",
              "      <td>0</td>\n",
              "      <td>tcp</td>\n",
              "      <td>private</td>\n",
              "      <td>S0</td>\n",
              "      <td>0</td>\n",
              "      <td>0</td>\n",
              "      <td>0</td>\n",
              "      <td>0</td>\n",
              "      <td>0</td>\n",
              "      <td>0</td>\n",
              "      <td>...</td>\n",
              "      <td>26</td>\n",
              "      <td>0.10</td>\n",
              "      <td>0.05</td>\n",
              "      <td>0.00</td>\n",
              "      <td>0.00</td>\n",
              "      <td>1.00</td>\n",
              "      <td>1.00</td>\n",
              "      <td>0.00</td>\n",
              "      <td>0.00</td>\n",
              "      <td>anomaly</td>\n",
              "    </tr>\n",
              "    <tr>\n",
              "      <th>3</th>\n",
              "      <td>0</td>\n",
              "      <td>tcp</td>\n",
              "      <td>http</td>\n",
              "      <td>SF</td>\n",
              "      <td>232</td>\n",
              "      <td>8153</td>\n",
              "      <td>0</td>\n",
              "      <td>0</td>\n",
              "      <td>0</td>\n",
              "      <td>0</td>\n",
              "      <td>...</td>\n",
              "      <td>255</td>\n",
              "      <td>1.00</td>\n",
              "      <td>0.00</td>\n",
              "      <td>0.03</td>\n",
              "      <td>0.04</td>\n",
              "      <td>0.03</td>\n",
              "      <td>0.01</td>\n",
              "      <td>0.00</td>\n",
              "      <td>0.01</td>\n",
              "      <td>normal</td>\n",
              "    </tr>\n",
              "    <tr>\n",
              "      <th>4</th>\n",
              "      <td>0</td>\n",
              "      <td>tcp</td>\n",
              "      <td>http</td>\n",
              "      <td>SF</td>\n",
              "      <td>199</td>\n",
              "      <td>420</td>\n",
              "      <td>0</td>\n",
              "      <td>0</td>\n",
              "      <td>0</td>\n",
              "      <td>0</td>\n",
              "      <td>...</td>\n",
              "      <td>255</td>\n",
              "      <td>1.00</td>\n",
              "      <td>0.00</td>\n",
              "      <td>0.00</td>\n",
              "      <td>0.00</td>\n",
              "      <td>0.00</td>\n",
              "      <td>0.00</td>\n",
              "      <td>0.00</td>\n",
              "      <td>0.00</td>\n",
              "      <td>normal</td>\n",
              "    </tr>\n",
              "  </tbody>\n",
              "</table>\n",
              "<p>5 rows × 42 columns</p>\n",
              "</div>\n",
              "      <button class=\"colab-df-convert\" onclick=\"convertToInteractive('df-8a5a4189-f5f2-472e-a165-50ea44d2c1f6')\"\n",
              "              title=\"Convert this dataframe to an interactive table.\"\n",
              "              style=\"display:none;\">\n",
              "        \n",
              "  <svg xmlns=\"http://www.w3.org/2000/svg\" height=\"24px\"viewBox=\"0 0 24 24\"\n",
              "       width=\"24px\">\n",
              "    <path d=\"M0 0h24v24H0V0z\" fill=\"none\"/>\n",
              "    <path d=\"M18.56 5.44l.94 2.06.94-2.06 2.06-.94-2.06-.94-.94-2.06-.94 2.06-2.06.94zm-11 1L8.5 8.5l.94-2.06 2.06-.94-2.06-.94L8.5 2.5l-.94 2.06-2.06.94zm10 10l.94 2.06.94-2.06 2.06-.94-2.06-.94-.94-2.06-.94 2.06-2.06.94z\"/><path d=\"M17.41 7.96l-1.37-1.37c-.4-.4-.92-.59-1.43-.59-.52 0-1.04.2-1.43.59L10.3 9.45l-7.72 7.72c-.78.78-.78 2.05 0 2.83L4 21.41c.39.39.9.59 1.41.59.51 0 1.02-.2 1.41-.59l7.78-7.78 2.81-2.81c.8-.78.8-2.07 0-2.86zM5.41 20L4 18.59l7.72-7.72 1.47 1.35L5.41 20z\"/>\n",
              "  </svg>\n",
              "      </button>\n",
              "      \n",
              "  <style>\n",
              "    .colab-df-container {\n",
              "      display:flex;\n",
              "      flex-wrap:wrap;\n",
              "      gap: 12px;\n",
              "    }\n",
              "\n",
              "    .colab-df-convert {\n",
              "      background-color: #E8F0FE;\n",
              "      border: none;\n",
              "      border-radius: 50%;\n",
              "      cursor: pointer;\n",
              "      display: none;\n",
              "      fill: #1967D2;\n",
              "      height: 32px;\n",
              "      padding: 0 0 0 0;\n",
              "      width: 32px;\n",
              "    }\n",
              "\n",
              "    .colab-df-convert:hover {\n",
              "      background-color: #E2EBFA;\n",
              "      box-shadow: 0px 1px 2px rgba(60, 64, 67, 0.3), 0px 1px 3px 1px rgba(60, 64, 67, 0.15);\n",
              "      fill: #174EA6;\n",
              "    }\n",
              "\n",
              "    [theme=dark] .colab-df-convert {\n",
              "      background-color: #3B4455;\n",
              "      fill: #D2E3FC;\n",
              "    }\n",
              "\n",
              "    [theme=dark] .colab-df-convert:hover {\n",
              "      background-color: #434B5C;\n",
              "      box-shadow: 0px 1px 3px 1px rgba(0, 0, 0, 0.15);\n",
              "      filter: drop-shadow(0px 1px 2px rgba(0, 0, 0, 0.3));\n",
              "      fill: #FFFFFF;\n",
              "    }\n",
              "  </style>\n",
              "\n",
              "      <script>\n",
              "        const buttonEl =\n",
              "          document.querySelector('#df-8a5a4189-f5f2-472e-a165-50ea44d2c1f6 button.colab-df-convert');\n",
              "        buttonEl.style.display =\n",
              "          google.colab.kernel.accessAllowed ? 'block' : 'none';\n",
              "\n",
              "        async function convertToInteractive(key) {\n",
              "          const element = document.querySelector('#df-8a5a4189-f5f2-472e-a165-50ea44d2c1f6');\n",
              "          const dataTable =\n",
              "            await google.colab.kernel.invokeFunction('convertToInteractive',\n",
              "                                                     [key], {});\n",
              "          if (!dataTable) return;\n",
              "\n",
              "          const docLinkHtml = 'Like what you see? Visit the ' +\n",
              "            '<a target=\"_blank\" href=https://colab.research.google.com/notebooks/data_table.ipynb>data table notebook</a>'\n",
              "            + ' to learn more about interactive tables.';\n",
              "          element.innerHTML = '';\n",
              "          dataTable['output_type'] = 'display_data';\n",
              "          await google.colab.output.renderOutput(dataTable, element);\n",
              "          const docLink = document.createElement('div');\n",
              "          docLink.innerHTML = docLinkHtml;\n",
              "          element.appendChild(docLink);\n",
              "        }\n",
              "      </script>\n",
              "    </div>\n",
              "  </div>\n",
              "  "
            ]
          },
          "metadata": {},
          "execution_count": 11
        }
      ]
    },
    {
      "cell_type": "code",
      "source": [
        "print(df.describe().T)"
      ],
      "metadata": {
        "colab": {
          "base_uri": "https://localhost:8080/"
        },
        "id": "w-kCYtQ1OXqo",
        "outputId": "f5e4a3b8-231b-49bc-e736-a2f766af4c55"
      },
      "execution_count": 12,
      "outputs": [
        {
          "output_type": "stream",
          "name": "stdout",
          "text": [
            "                               count          mean           std  min    25%  \\\n",
            "duration                     25192.0    305.054104  2.686556e+03  0.0   0.00   \n",
            "src_bytes                    25192.0  24330.628215  2.410805e+06  0.0   0.00   \n",
            "dst_bytes                    25192.0   3491.847174  8.883072e+04  0.0   0.00   \n",
            "land                         25192.0      0.000079  8.909946e-03  0.0   0.00   \n",
            "wrong_fragment               25192.0      0.023738  2.602208e-01  0.0   0.00   \n",
            "urgent                       25192.0      0.000040  6.300408e-03  0.0   0.00   \n",
            "hot                          25192.0      0.198039  2.154202e+00  0.0   0.00   \n",
            "num_failed_logins            25192.0      0.001191  4.541818e-02  0.0   0.00   \n",
            "logged_in                    25192.0      0.394768  4.888105e-01  0.0   0.00   \n",
            "num_compromised              25192.0      0.227850  1.041735e+01  0.0   0.00   \n",
            "root_shell                   25192.0      0.001548  3.931635e-02  0.0   0.00   \n",
            "su_attempted                 25192.0      0.001350  4.878505e-02  0.0   0.00   \n",
            "num_root                     25192.0      0.249841  1.150084e+01  0.0   0.00   \n",
            "num_file_creations           25192.0      0.014727  5.296023e-01  0.0   0.00   \n",
            "num_shells                   25192.0      0.000357  1.889822e-02  0.0   0.00   \n",
            "num_access_files             25192.0      0.004327  9.852398e-02  0.0   0.00   \n",
            "num_outbound_cmds            25192.0      0.000000  0.000000e+00  0.0   0.00   \n",
            "is_host_login                25192.0      0.000000  0.000000e+00  0.0   0.00   \n",
            "is_guest_login               25192.0      0.009130  9.511512e-02  0.0   0.00   \n",
            "count                        25192.0     84.591180  1.146735e+02  1.0   2.00   \n",
            "srv_count                    25192.0     27.698754  7.246824e+01  1.0   2.00   \n",
            "serror_rate                  25192.0      0.286338  4.473123e-01  0.0   0.00   \n",
            "srv_serror_rate              25192.0      0.283762  4.475989e-01  0.0   0.00   \n",
            "rerror_rate                  25192.0      0.118630  3.187455e-01  0.0   0.00   \n",
            "srv_rerror_rate              25192.0      0.120260  3.223354e-01  0.0   0.00   \n",
            "same_srv_rate                25192.0      0.660559  4.396374e-01  0.0   0.09   \n",
            "diff_srv_rate                25192.0      0.062363  1.785500e-01  0.0   0.00   \n",
            "srv_diff_host_rate           25192.0      0.095931  2.565828e-01  0.0   0.00   \n",
            "dst_host_count               25192.0    182.532074  9.899390e+01  0.0  84.00   \n",
            "dst_host_srv_count           25192.0    115.063036  1.106469e+02  0.0  10.00   \n",
            "dst_host_same_srv_rate       25192.0      0.519791  4.489439e-01  0.0   0.05   \n",
            "dst_host_diff_srv_rate       25192.0      0.082539  1.871911e-01  0.0   0.00   \n",
            "dst_host_same_src_port_rate  25192.0      0.147453  3.083666e-01  0.0   0.00   \n",
            "dst_host_srv_diff_host_rate  25192.0      0.031844  1.105750e-01  0.0   0.00   \n",
            "dst_host_serror_rate         25192.0      0.285800  4.453165e-01  0.0   0.00   \n",
            "dst_host_srv_serror_rate     25192.0      0.279846  4.460753e-01  0.0   0.00   \n",
            "dst_host_rerror_rate         25192.0      0.117800  3.058692e-01  0.0   0.00   \n",
            "dst_host_srv_rerror_rate     25192.0      0.118769  3.173335e-01  0.0   0.00   \n",
            "\n",
            "                                50%     75%          max  \n",
            "duration                       0.00    0.00      42862.0  \n",
            "src_bytes                     44.00  279.00  381709090.0  \n",
            "dst_bytes                      0.00  530.25    5151385.0  \n",
            "land                           0.00    0.00          1.0  \n",
            "wrong_fragment                 0.00    0.00          3.0  \n",
            "urgent                         0.00    0.00          1.0  \n",
            "hot                            0.00    0.00         77.0  \n",
            "num_failed_logins              0.00    0.00          4.0  \n",
            "logged_in                      0.00    1.00          1.0  \n",
            "num_compromised                0.00    0.00        884.0  \n",
            "root_shell                     0.00    0.00          1.0  \n",
            "su_attempted                   0.00    0.00          2.0  \n",
            "num_root                       0.00    0.00        975.0  \n",
            "num_file_creations             0.00    0.00         40.0  \n",
            "num_shells                     0.00    0.00          1.0  \n",
            "num_access_files               0.00    0.00          8.0  \n",
            "num_outbound_cmds              0.00    0.00          0.0  \n",
            "is_host_login                  0.00    0.00          0.0  \n",
            "is_guest_login                 0.00    0.00          1.0  \n",
            "count                         14.00  144.00        511.0  \n",
            "srv_count                      8.00   18.00        511.0  \n",
            "serror_rate                    0.00    1.00          1.0  \n",
            "srv_serror_rate                0.00    1.00          1.0  \n",
            "rerror_rate                    0.00    0.00          1.0  \n",
            "srv_rerror_rate                0.00    0.00          1.0  \n",
            "same_srv_rate                  1.00    1.00          1.0  \n",
            "diff_srv_rate                  0.00    0.06          1.0  \n",
            "srv_diff_host_rate             0.00    0.00          1.0  \n",
            "dst_host_count               255.00  255.00        255.0  \n",
            "dst_host_srv_count            61.00  255.00        255.0  \n",
            "dst_host_same_srv_rate         0.51    1.00          1.0  \n",
            "dst_host_diff_srv_rate         0.03    0.07          1.0  \n",
            "dst_host_same_src_port_rate    0.00    0.06          1.0  \n",
            "dst_host_srv_diff_host_rate    0.00    0.02          1.0  \n",
            "dst_host_serror_rate           0.00    1.00          1.0  \n",
            "dst_host_srv_serror_rate       0.00    1.00          1.0  \n",
            "dst_host_rerror_rate           0.00    0.00          1.0  \n",
            "dst_host_srv_rerror_rate       0.00    0.00          1.0  \n"
          ]
        }
      ]
    },
    {
      "cell_type": "code",
      "source": [
        "print(df.isnull().sum())"
      ],
      "metadata": {
        "colab": {
          "base_uri": "https://localhost:8080/"
        },
        "id": "Wd0swxqpOcAH",
        "outputId": "8c89148f-969b-4877-e195-fb7c01e0632f"
      },
      "execution_count": 13,
      "outputs": [
        {
          "output_type": "stream",
          "name": "stdout",
          "text": [
            "duration                       0\n",
            "protocol_type                  0\n",
            "service                        0\n",
            "flag                           0\n",
            "src_bytes                      0\n",
            "dst_bytes                      0\n",
            "land                           0\n",
            "wrong_fragment                 0\n",
            "urgent                         0\n",
            "hot                            0\n",
            "num_failed_logins              0\n",
            "logged_in                      0\n",
            "num_compromised                0\n",
            "root_shell                     0\n",
            "su_attempted                   0\n",
            "num_root                       0\n",
            "num_file_creations             0\n",
            "num_shells                     0\n",
            "num_access_files               0\n",
            "num_outbound_cmds              0\n",
            "is_host_login                  0\n",
            "is_guest_login                 0\n",
            "count                          0\n",
            "srv_count                      0\n",
            "serror_rate                    0\n",
            "srv_serror_rate                0\n",
            "rerror_rate                    0\n",
            "srv_rerror_rate                0\n",
            "same_srv_rate                  0\n",
            "diff_srv_rate                  0\n",
            "srv_diff_host_rate             0\n",
            "dst_host_count                 0\n",
            "dst_host_srv_count             0\n",
            "dst_host_same_srv_rate         0\n",
            "dst_host_diff_srv_rate         0\n",
            "dst_host_same_src_port_rate    0\n",
            "dst_host_srv_diff_host_rate    0\n",
            "dst_host_serror_rate           0\n",
            "dst_host_srv_serror_rate       0\n",
            "dst_host_rerror_rate           0\n",
            "dst_host_srv_rerror_rate       0\n",
            "class                          0\n",
            "dtype: int64\n"
          ]
        }
      ]
    },
    {
      "cell_type": "code",
      "source": [
        "print(df.dtypes)"
      ],
      "metadata": {
        "colab": {
          "base_uri": "https://localhost:8080/"
        },
        "id": "Y5czqfvJOesP",
        "outputId": "bfadec84-7160-4447-cfa2-a2e03daa26e9"
      },
      "execution_count": 14,
      "outputs": [
        {
          "output_type": "stream",
          "name": "stdout",
          "text": [
            "duration                         int64\n",
            "protocol_type                   object\n",
            "service                         object\n",
            "flag                            object\n",
            "src_bytes                        int64\n",
            "dst_bytes                        int64\n",
            "land                             int64\n",
            "wrong_fragment                   int64\n",
            "urgent                           int64\n",
            "hot                              int64\n",
            "num_failed_logins                int64\n",
            "logged_in                        int64\n",
            "num_compromised                  int64\n",
            "root_shell                       int64\n",
            "su_attempted                     int64\n",
            "num_root                         int64\n",
            "num_file_creations               int64\n",
            "num_shells                       int64\n",
            "num_access_files                 int64\n",
            "num_outbound_cmds                int64\n",
            "is_host_login                    int64\n",
            "is_guest_login                   int64\n",
            "count                            int64\n",
            "srv_count                        int64\n",
            "serror_rate                    float64\n",
            "srv_serror_rate                float64\n",
            "rerror_rate                    float64\n",
            "srv_rerror_rate                float64\n",
            "same_srv_rate                  float64\n",
            "diff_srv_rate                  float64\n",
            "srv_diff_host_rate             float64\n",
            "dst_host_count                   int64\n",
            "dst_host_srv_count               int64\n",
            "dst_host_same_srv_rate         float64\n",
            "dst_host_diff_srv_rate         float64\n",
            "dst_host_same_src_port_rate    float64\n",
            "dst_host_srv_diff_host_rate    float64\n",
            "dst_host_serror_rate           float64\n",
            "dst_host_srv_serror_rate       float64\n",
            "dst_host_rerror_rate           float64\n",
            "dst_host_srv_rerror_rate       float64\n",
            "class                           object\n",
            "dtype: object\n"
          ]
        }
      ]
    },
    {
      "cell_type": "code",
      "source": [
        "df['class'].value_counts()"
      ],
      "metadata": {
        "colab": {
          "base_uri": "https://localhost:8080/"
        },
        "id": "EI3APk1mOhRX",
        "outputId": "74ed2734-6b56-4939-fdca-13ccca453d3e"
      },
      "execution_count": 15,
      "outputs": [
        {
          "output_type": "execute_result",
          "data": {
            "text/plain": [
              "normal     13449\n",
              "anomaly    11743\n",
              "Name: class, dtype: int64"
            ]
          },
          "metadata": {},
          "execution_count": 15
        }
      ]
    },
    {
      "cell_type": "code",
      "source": [
        "def encoding(dataframe):\n",
        "    for col in dataframe.columns:\n",
        "        if dataframe[col].dtype == 'object':\n",
        "                label_encoder = preprocessing.LabelEncoder()\n",
        "                dataframe[col] = label_encoder.fit_transform(dataframe[col])"
      ],
      "metadata": {
        "id": "CHG7miClOjxv"
      },
      "execution_count": 16,
      "outputs": []
    },
    {
      "cell_type": "code",
      "source": [
        "encoding(df)"
      ],
      "metadata": {
        "id": "ckDzq8rwOmNK"
      },
      "execution_count": 17,
      "outputs": []
    },
    {
      "cell_type": "code",
      "source": [
        "df.head(5)"
      ],
      "metadata": {
        "colab": {
          "base_uri": "https://localhost:8080/",
          "height": 300
        },
        "id": "HnUSmJR6OoIH",
        "outputId": "d889e6d2-993c-4a77-f53b-dd5f2c17e31c"
      },
      "execution_count": 18,
      "outputs": [
        {
          "output_type": "execute_result",
          "data": {
            "text/plain": [
              "   duration  protocol_type  service  flag  src_bytes  dst_bytes  land  \\\n",
              "0         0              1       19     9        491          0     0   \n",
              "1         0              2       41     9        146          0     0   \n",
              "2         0              1       46     5          0          0     0   \n",
              "3         0              1       22     9        232       8153     0   \n",
              "4         0              1       22     9        199        420     0   \n",
              "\n",
              "   wrong_fragment  urgent  hot  ...  dst_host_srv_count  \\\n",
              "0               0       0    0  ...                  25   \n",
              "1               0       0    0  ...                   1   \n",
              "2               0       0    0  ...                  26   \n",
              "3               0       0    0  ...                 255   \n",
              "4               0       0    0  ...                 255   \n",
              "\n",
              "   dst_host_same_srv_rate  dst_host_diff_srv_rate  \\\n",
              "0                    0.17                    0.03   \n",
              "1                    0.00                    0.60   \n",
              "2                    0.10                    0.05   \n",
              "3                    1.00                    0.00   \n",
              "4                    1.00                    0.00   \n",
              "\n",
              "   dst_host_same_src_port_rate  dst_host_srv_diff_host_rate  \\\n",
              "0                         0.17                         0.00   \n",
              "1                         0.88                         0.00   \n",
              "2                         0.00                         0.00   \n",
              "3                         0.03                         0.04   \n",
              "4                         0.00                         0.00   \n",
              "\n",
              "   dst_host_serror_rate  dst_host_srv_serror_rate  dst_host_rerror_rate  \\\n",
              "0                  0.00                      0.00                  0.05   \n",
              "1                  0.00                      0.00                  0.00   \n",
              "2                  1.00                      1.00                  0.00   \n",
              "3                  0.03                      0.01                  0.00   \n",
              "4                  0.00                      0.00                  0.00   \n",
              "\n",
              "   dst_host_srv_rerror_rate  class  \n",
              "0                      0.00      1  \n",
              "1                      0.00      1  \n",
              "2                      0.00      0  \n",
              "3                      0.01      1  \n",
              "4                      0.00      1  \n",
              "\n",
              "[5 rows x 42 columns]"
            ],
            "text/html": [
              "\n",
              "  <div id=\"df-83af10a8-67fe-4a0e-b5f4-7ae5b27a9cf5\">\n",
              "    <div class=\"colab-df-container\">\n",
              "      <div>\n",
              "<style scoped>\n",
              "    .dataframe tbody tr th:only-of-type {\n",
              "        vertical-align: middle;\n",
              "    }\n",
              "\n",
              "    .dataframe tbody tr th {\n",
              "        vertical-align: top;\n",
              "    }\n",
              "\n",
              "    .dataframe thead th {\n",
              "        text-align: right;\n",
              "    }\n",
              "</style>\n",
              "<table border=\"1\" class=\"dataframe\">\n",
              "  <thead>\n",
              "    <tr style=\"text-align: right;\">\n",
              "      <th></th>\n",
              "      <th>duration</th>\n",
              "      <th>protocol_type</th>\n",
              "      <th>service</th>\n",
              "      <th>flag</th>\n",
              "      <th>src_bytes</th>\n",
              "      <th>dst_bytes</th>\n",
              "      <th>land</th>\n",
              "      <th>wrong_fragment</th>\n",
              "      <th>urgent</th>\n",
              "      <th>hot</th>\n",
              "      <th>...</th>\n",
              "      <th>dst_host_srv_count</th>\n",
              "      <th>dst_host_same_srv_rate</th>\n",
              "      <th>dst_host_diff_srv_rate</th>\n",
              "      <th>dst_host_same_src_port_rate</th>\n",
              "      <th>dst_host_srv_diff_host_rate</th>\n",
              "      <th>dst_host_serror_rate</th>\n",
              "      <th>dst_host_srv_serror_rate</th>\n",
              "      <th>dst_host_rerror_rate</th>\n",
              "      <th>dst_host_srv_rerror_rate</th>\n",
              "      <th>class</th>\n",
              "    </tr>\n",
              "  </thead>\n",
              "  <tbody>\n",
              "    <tr>\n",
              "      <th>0</th>\n",
              "      <td>0</td>\n",
              "      <td>1</td>\n",
              "      <td>19</td>\n",
              "      <td>9</td>\n",
              "      <td>491</td>\n",
              "      <td>0</td>\n",
              "      <td>0</td>\n",
              "      <td>0</td>\n",
              "      <td>0</td>\n",
              "      <td>0</td>\n",
              "      <td>...</td>\n",
              "      <td>25</td>\n",
              "      <td>0.17</td>\n",
              "      <td>0.03</td>\n",
              "      <td>0.17</td>\n",
              "      <td>0.00</td>\n",
              "      <td>0.00</td>\n",
              "      <td>0.00</td>\n",
              "      <td>0.05</td>\n",
              "      <td>0.00</td>\n",
              "      <td>1</td>\n",
              "    </tr>\n",
              "    <tr>\n",
              "      <th>1</th>\n",
              "      <td>0</td>\n",
              "      <td>2</td>\n",
              "      <td>41</td>\n",
              "      <td>9</td>\n",
              "      <td>146</td>\n",
              "      <td>0</td>\n",
              "      <td>0</td>\n",
              "      <td>0</td>\n",
              "      <td>0</td>\n",
              "      <td>0</td>\n",
              "      <td>...</td>\n",
              "      <td>1</td>\n",
              "      <td>0.00</td>\n",
              "      <td>0.60</td>\n",
              "      <td>0.88</td>\n",
              "      <td>0.00</td>\n",
              "      <td>0.00</td>\n",
              "      <td>0.00</td>\n",
              "      <td>0.00</td>\n",
              "      <td>0.00</td>\n",
              "      <td>1</td>\n",
              "    </tr>\n",
              "    <tr>\n",
              "      <th>2</th>\n",
              "      <td>0</td>\n",
              "      <td>1</td>\n",
              "      <td>46</td>\n",
              "      <td>5</td>\n",
              "      <td>0</td>\n",
              "      <td>0</td>\n",
              "      <td>0</td>\n",
              "      <td>0</td>\n",
              "      <td>0</td>\n",
              "      <td>0</td>\n",
              "      <td>...</td>\n",
              "      <td>26</td>\n",
              "      <td>0.10</td>\n",
              "      <td>0.05</td>\n",
              "      <td>0.00</td>\n",
              "      <td>0.00</td>\n",
              "      <td>1.00</td>\n",
              "      <td>1.00</td>\n",
              "      <td>0.00</td>\n",
              "      <td>0.00</td>\n",
              "      <td>0</td>\n",
              "    </tr>\n",
              "    <tr>\n",
              "      <th>3</th>\n",
              "      <td>0</td>\n",
              "      <td>1</td>\n",
              "      <td>22</td>\n",
              "      <td>9</td>\n",
              "      <td>232</td>\n",
              "      <td>8153</td>\n",
              "      <td>0</td>\n",
              "      <td>0</td>\n",
              "      <td>0</td>\n",
              "      <td>0</td>\n",
              "      <td>...</td>\n",
              "      <td>255</td>\n",
              "      <td>1.00</td>\n",
              "      <td>0.00</td>\n",
              "      <td>0.03</td>\n",
              "      <td>0.04</td>\n",
              "      <td>0.03</td>\n",
              "      <td>0.01</td>\n",
              "      <td>0.00</td>\n",
              "      <td>0.01</td>\n",
              "      <td>1</td>\n",
              "    </tr>\n",
              "    <tr>\n",
              "      <th>4</th>\n",
              "      <td>0</td>\n",
              "      <td>1</td>\n",
              "      <td>22</td>\n",
              "      <td>9</td>\n",
              "      <td>199</td>\n",
              "      <td>420</td>\n",
              "      <td>0</td>\n",
              "      <td>0</td>\n",
              "      <td>0</td>\n",
              "      <td>0</td>\n",
              "      <td>...</td>\n",
              "      <td>255</td>\n",
              "      <td>1.00</td>\n",
              "      <td>0.00</td>\n",
              "      <td>0.00</td>\n",
              "      <td>0.00</td>\n",
              "      <td>0.00</td>\n",
              "      <td>0.00</td>\n",
              "      <td>0.00</td>\n",
              "      <td>0.00</td>\n",
              "      <td>1</td>\n",
              "    </tr>\n",
              "  </tbody>\n",
              "</table>\n",
              "<p>5 rows × 42 columns</p>\n",
              "</div>\n",
              "      <button class=\"colab-df-convert\" onclick=\"convertToInteractive('df-83af10a8-67fe-4a0e-b5f4-7ae5b27a9cf5')\"\n",
              "              title=\"Convert this dataframe to an interactive table.\"\n",
              "              style=\"display:none;\">\n",
              "        \n",
              "  <svg xmlns=\"http://www.w3.org/2000/svg\" height=\"24px\"viewBox=\"0 0 24 24\"\n",
              "       width=\"24px\">\n",
              "    <path d=\"M0 0h24v24H0V0z\" fill=\"none\"/>\n",
              "    <path d=\"M18.56 5.44l.94 2.06.94-2.06 2.06-.94-2.06-.94-.94-2.06-.94 2.06-2.06.94zm-11 1L8.5 8.5l.94-2.06 2.06-.94-2.06-.94L8.5 2.5l-.94 2.06-2.06.94zm10 10l.94 2.06.94-2.06 2.06-.94-2.06-.94-.94-2.06-.94 2.06-2.06.94z\"/><path d=\"M17.41 7.96l-1.37-1.37c-.4-.4-.92-.59-1.43-.59-.52 0-1.04.2-1.43.59L10.3 9.45l-7.72 7.72c-.78.78-.78 2.05 0 2.83L4 21.41c.39.39.9.59 1.41.59.51 0 1.02-.2 1.41-.59l7.78-7.78 2.81-2.81c.8-.78.8-2.07 0-2.86zM5.41 20L4 18.59l7.72-7.72 1.47 1.35L5.41 20z\"/>\n",
              "  </svg>\n",
              "      </button>\n",
              "      \n",
              "  <style>\n",
              "    .colab-df-container {\n",
              "      display:flex;\n",
              "      flex-wrap:wrap;\n",
              "      gap: 12px;\n",
              "    }\n",
              "\n",
              "    .colab-df-convert {\n",
              "      background-color: #E8F0FE;\n",
              "      border: none;\n",
              "      border-radius: 50%;\n",
              "      cursor: pointer;\n",
              "      display: none;\n",
              "      fill: #1967D2;\n",
              "      height: 32px;\n",
              "      padding: 0 0 0 0;\n",
              "      width: 32px;\n",
              "    }\n",
              "\n",
              "    .colab-df-convert:hover {\n",
              "      background-color: #E2EBFA;\n",
              "      box-shadow: 0px 1px 2px rgba(60, 64, 67, 0.3), 0px 1px 3px 1px rgba(60, 64, 67, 0.15);\n",
              "      fill: #174EA6;\n",
              "    }\n",
              "\n",
              "    [theme=dark] .colab-df-convert {\n",
              "      background-color: #3B4455;\n",
              "      fill: #D2E3FC;\n",
              "    }\n",
              "\n",
              "    [theme=dark] .colab-df-convert:hover {\n",
              "      background-color: #434B5C;\n",
              "      box-shadow: 0px 1px 3px 1px rgba(0, 0, 0, 0.15);\n",
              "      filter: drop-shadow(0px 1px 2px rgba(0, 0, 0, 0.3));\n",
              "      fill: #FFFFFF;\n",
              "    }\n",
              "  </style>\n",
              "\n",
              "      <script>\n",
              "        const buttonEl =\n",
              "          document.querySelector('#df-83af10a8-67fe-4a0e-b5f4-7ae5b27a9cf5 button.colab-df-convert');\n",
              "        buttonEl.style.display =\n",
              "          google.colab.kernel.accessAllowed ? 'block' : 'none';\n",
              "\n",
              "        async function convertToInteractive(key) {\n",
              "          const element = document.querySelector('#df-83af10a8-67fe-4a0e-b5f4-7ae5b27a9cf5');\n",
              "          const dataTable =\n",
              "            await google.colab.kernel.invokeFunction('convertToInteractive',\n",
              "                                                     [key], {});\n",
              "          if (!dataTable) return;\n",
              "\n",
              "          const docLinkHtml = 'Like what you see? Visit the ' +\n",
              "            '<a target=\"_blank\" href=https://colab.research.google.com/notebooks/data_table.ipynb>data table notebook</a>'\n",
              "            + ' to learn more about interactive tables.';\n",
              "          element.innerHTML = '';\n",
              "          dataTable['output_type'] = 'display_data';\n",
              "          await google.colab.output.renderOutput(dataTable, element);\n",
              "          const docLink = document.createElement('div');\n",
              "          docLink.innerHTML = docLinkHtml;\n",
              "          element.appendChild(docLink);\n",
              "        }\n",
              "      </script>\n",
              "    </div>\n",
              "  </div>\n",
              "  "
            ]
          },
          "metadata": {},
          "execution_count": 18
        }
      ]
    },
    {
      "cell_type": "code",
      "source": [
        "print(df.dtypes)"
      ],
      "metadata": {
        "colab": {
          "base_uri": "https://localhost:8080/"
        },
        "id": "rcB47qhYOqbZ",
        "outputId": "d701a0d0-9293-413a-b900-58d0a25ea9f1"
      },
      "execution_count": 19,
      "outputs": [
        {
          "output_type": "stream",
          "name": "stdout",
          "text": [
            "duration                         int64\n",
            "protocol_type                    int64\n",
            "service                          int64\n",
            "flag                             int64\n",
            "src_bytes                        int64\n",
            "dst_bytes                        int64\n",
            "land                             int64\n",
            "wrong_fragment                   int64\n",
            "urgent                           int64\n",
            "hot                              int64\n",
            "num_failed_logins                int64\n",
            "logged_in                        int64\n",
            "num_compromised                  int64\n",
            "root_shell                       int64\n",
            "su_attempted                     int64\n",
            "num_root                         int64\n",
            "num_file_creations               int64\n",
            "num_shells                       int64\n",
            "num_access_files                 int64\n",
            "num_outbound_cmds                int64\n",
            "is_host_login                    int64\n",
            "is_guest_login                   int64\n",
            "count                            int64\n",
            "srv_count                        int64\n",
            "serror_rate                    float64\n",
            "srv_serror_rate                float64\n",
            "rerror_rate                    float64\n",
            "srv_rerror_rate                float64\n",
            "same_srv_rate                  float64\n",
            "diff_srv_rate                  float64\n",
            "srv_diff_host_rate             float64\n",
            "dst_host_count                   int64\n",
            "dst_host_srv_count               int64\n",
            "dst_host_same_srv_rate         float64\n",
            "dst_host_diff_srv_rate         float64\n",
            "dst_host_same_src_port_rate    float64\n",
            "dst_host_srv_diff_host_rate    float64\n",
            "dst_host_serror_rate           float64\n",
            "dst_host_srv_serror_rate       float64\n",
            "dst_host_rerror_rate           float64\n",
            "dst_host_srv_rerror_rate       float64\n",
            "class                            int64\n",
            "dtype: object\n"
          ]
        }
      ]
    },
    {
      "cell_type": "code",
      "source": [
        "df.shape"
      ],
      "metadata": {
        "colab": {
          "base_uri": "https://localhost:8080/"
        },
        "id": "ngywd1ZJOs8P",
        "outputId": "dc2ba393-18ad-439d-c81a-6925cbcfa7d4"
      },
      "execution_count": 20,
      "outputs": [
        {
          "output_type": "execute_result",
          "data": {
            "text/plain": [
              "(25192, 42)"
            ]
          },
          "metadata": {},
          "execution_count": 20
        }
      ]
    },
    {
      "cell_type": "code",
      "source": [
        "Y = df[\"class\"].values\n",
        "X = df.drop(labels = [\"class\"], axis=1)"
      ],
      "metadata": {
        "id": "LysutYH6OvSX"
      },
      "execution_count": 21,
      "outputs": []
    },
    {
      "cell_type": "code",
      "source": [
        "X.shape"
      ],
      "metadata": {
        "colab": {
          "base_uri": "https://localhost:8080/"
        },
        "id": "Gu9qFvSSO0mo",
        "outputId": "8d98e59a-9ff0-42a8-d627-f3110fdc532e"
      },
      "execution_count": 22,
      "outputs": [
        {
          "output_type": "execute_result",
          "data": {
            "text/plain": [
              "(25192, 41)"
            ]
          },
          "metadata": {},
          "execution_count": 22
        }
      ]
    },
    {
      "cell_type": "code",
      "source": [
        "Y.shape"
      ],
      "metadata": {
        "colab": {
          "base_uri": "https://localhost:8080/"
        },
        "id": "f2dWmciQO3Cv",
        "outputId": "cdcfa2df-9ff5-45c4-b599-a0c94441d124"
      },
      "execution_count": 23,
      "outputs": [
        {
          "output_type": "execute_result",
          "data": {
            "text/plain": [
              "(25192,)"
            ]
          },
          "metadata": {},
          "execution_count": 23
        }
      ]
    },
    {
      "cell_type": "code",
      "source": [
        "def my_model():\n",
        "    model = Sequential()\n",
        "    model.add(Dense(4, input_dim=41, activation='relu'))\n",
        "    model.add(Dense(1))\n",
        "    model.add(Activation('sigmoid'))\n",
        "    model.compile(loss='binary_crossentropy',\n",
        "                  optimizer='rmsprop',\n",
        "                  metrics=['accuracy'])\n",
        "    return model"
      ],
      "metadata": {
        "id": "7Ve6TlpmO4r5"
      },
      "execution_count": 68,
      "outputs": []
    },
    {
      "cell_type": "code",
      "source": [
        "from sklearn.model_selection import KFold\n",
        "from sklearn.model_selection import cross_val_score\n",
        "import numpy as np\n",
        "from sklearn.pipeline import Pipeline\n",
        "from sklearn.preprocessing import MinMaxScaler"
      ],
      "metadata": {
        "id": "kuvQckytPaOw"
      },
      "execution_count": 69,
      "outputs": []
    },
    {
      "cell_type": "code",
      "source": [
        "my_keras_model = KerasClassifier(build_fn=my_model, epochs=20, batch_size=50, verbose=0)"
      ],
      "metadata": {
        "id": "UrlgQIdlPVGx"
      },
      "execution_count": 70,
      "outputs": []
    },
    {
      "cell_type": "code",
      "source": [
        "steps = list()"
      ],
      "metadata": {
        "id": "f6D6_rWfPf5_"
      },
      "execution_count": 71,
      "outputs": []
    },
    {
      "cell_type": "code",
      "source": [
        "steps.append(('scaler', MinMaxScaler()))"
      ],
      "metadata": {
        "id": "fEDipkgVPkt5"
      },
      "execution_count": 72,
      "outputs": []
    },
    {
      "cell_type": "code",
      "source": [
        "steps.append(('model', my_keras_model))"
      ],
      "metadata": {
        "id": "nIyFePnqPoQI"
      },
      "execution_count": 73,
      "outputs": []
    },
    {
      "cell_type": "code",
      "source": [
        "pipeline = Pipeline(steps=steps)"
      ],
      "metadata": {
        "id": "qYjj3MpzPqM3"
      },
      "execution_count": 74,
      "outputs": []
    },
    {
      "cell_type": "code",
      "source": [
        "cv = KFold(n_splits=10, random_state=42, shuffle=True)"
      ],
      "metadata": {
        "id": "ShK2au07PseS"
      },
      "execution_count": 75,
      "outputs": []
    },
    {
      "cell_type": "code",
      "source": [
        "scores = cross_val_score(pipeline, X, Y, scoring='accuracy', cv=cv, n_jobs=1)"
      ],
      "metadata": {
        "colab": {
          "base_uri": "https://localhost:8080/"
        },
        "id": "OJzqKBxiPukf",
        "outputId": "301a2c6a-2b9e-47b6-9a3c-37dc6f6a2a67"
      },
      "execution_count": 76,
      "outputs": [
        {
          "output_type": "stream",
          "name": "stdout",
          "text": [
            "79/79 [==============================] - 0s 1ms/step\n",
            "79/79 [==============================] - 0s 2ms/step\n",
            "79/79 [==============================] - 0s 1ms/step\n",
            "79/79 [==============================] - 0s 1ms/step\n",
            "79/79 [==============================] - 0s 1ms/step\n",
            "79/79 [==============================] - 0s 1ms/step\n",
            "79/79 [==============================] - 0s 1ms/step\n",
            "79/79 [==============================] - 0s 1ms/step\n",
            "79/79 [==============================] - 0s 1ms/step\n",
            "79/79 [==============================] - 0s 1ms/step\n"
          ]
        }
      ]
    },
    {
      "cell_type": "code",
      "source": [
        "for score in scores:\n",
        "    print(\"Score for this split is: \", score)"
      ],
      "metadata": {
        "colab": {
          "base_uri": "https://localhost:8080/"
        },
        "id": "LKr092eRPxK3",
        "outputId": "228e282e-68d0-480e-f2c0-eeb0f4dd5473"
      },
      "execution_count": 55,
      "outputs": [
        {
          "output_type": "stream",
          "name": "stdout",
          "text": [
            "Score for this split is:  0.975\n",
            "Score for this split is:  0.9785714285714285\n",
            "Score for this split is:  0.9781659388646288\n",
            "Score for this split is:  0.981341802302501\n",
            "Score for this split is:  0.9749900754267566\n",
            "Score for this split is:  0.9726081778483525\n",
            "Score for this split is:  0.9801508535132989\n",
            "Score for this split is:  0.9793568876538309\n",
            "Score for this split is:  0.9753870583564906\n",
            "Score for this split is:  0.9698292973402144\n"
          ]
        }
      ]
    },
    {
      "cell_type": "code",
      "source": [
        "# report performance\n",
        "print('Accuracy: ', (np.mean(scores)))"
      ],
      "metadata": {
        "colab": {
          "base_uri": "https://localhost:8080/"
        },
        "id": "-oM6PtPMP62Y",
        "outputId": "026f49d5-5879-4f3b-ff7f-d39a2e6276a5"
      },
      "execution_count": 77,
      "outputs": [
        {
          "output_type": "stream",
          "name": "stdout",
          "text": [
            "Accuracy:  0.9705461350876199\n"
          ]
        }
      ]
    },
    {
      "cell_type": "code",
      "source": [
        "from sklearn.model_selection import train_test_split\n",
        "X_train, X_test, y_train, y_test = train_test_split(X, Y, test_size=0.25, random_state=42)"
      ],
      "metadata": {
        "id": "wxAmUwOMP9AI"
      },
      "execution_count": 78,
      "outputs": []
    },
    {
      "cell_type": "code",
      "source": [
        "scaler = MinMaxScaler()"
      ],
      "metadata": {
        "id": "8gWP_zHLQA0Y"
      },
      "execution_count": 79,
      "outputs": []
    },
    {
      "cell_type": "code",
      "source": [
        "scaler.fit(X_train)\n",
        "X_train = scaler.transform(X_train)  #scaler converts our dataframe into arrays\n",
        "X_test = scaler.transform(X_test)\n"
      ],
      "metadata": {
        "id": "A08oz0KfQDRA"
      },
      "execution_count": 80,
      "outputs": []
    },
    {
      "cell_type": "code",
      "source": [
        "model = my_model()\n",
        "print(model.summary())"
      ],
      "metadata": {
        "colab": {
          "base_uri": "https://localhost:8080/"
        },
        "id": "tL4B-zwhQKia",
        "outputId": "26d65e14-2da0-4d5d-bdec-f41296cb9381"
      },
      "execution_count": 81,
      "outputs": [
        {
          "output_type": "stream",
          "name": "stdout",
          "text": [
            "Model: \"sequential_32\"\n",
            "_________________________________________________________________\n",
            " Layer (type)                Output Shape              Param #   \n",
            "=================================================================\n",
            " dense_64 (Dense)            (None, 4)                 168       \n",
            "                                                                 \n",
            " dense_65 (Dense)            (None, 1)                 5         \n",
            "                                                                 \n",
            " activation_32 (Activation)  (None, 1)                 0         \n",
            "                                                                 \n",
            "=================================================================\n",
            "Total params: 173\n",
            "Trainable params: 173\n",
            "Non-trainable params: 0\n",
            "_________________________________________________________________\n",
            "None\n"
          ]
        }
      ]
    },
    {
      "cell_type": "code",
      "source": [
        "history = model.fit(X_train, y_train ,verbose=1, epochs=50, batch_size=32,\n",
        "                     validation_data=(X_test, y_test))"
      ],
      "metadata": {
        "colab": {
          "base_uri": "https://localhost:8080/"
        },
        "id": "QtVKBYMdQNiB",
        "outputId": "ca4dd0fa-5684-41e0-a50b-69a9a829c3a4"
      },
      "execution_count": 82,
      "outputs": [
        {
          "output_type": "stream",
          "name": "stdout",
          "text": [
            "Epoch 1/50\n",
            "591/591 [==============================] - 2s 3ms/step - loss: 0.3832 - accuracy: 0.8303 - val_loss: 0.1853 - val_accuracy: 0.9306\n",
            "Epoch 2/50\n",
            "591/591 [==============================] - 2s 3ms/step - loss: 0.1719 - accuracy: 0.9390 - val_loss: 0.1409 - val_accuracy: 0.9522\n",
            "Epoch 3/50\n",
            "591/591 [==============================] - 1s 2ms/step - loss: 0.1464 - accuracy: 0.9518 - val_loss: 0.1288 - val_accuracy: 0.9581\n",
            "Epoch 4/50\n",
            "591/591 [==============================] - 1s 2ms/step - loss: 0.1348 - accuracy: 0.9562 - val_loss: 0.1217 - val_accuracy: 0.9611\n",
            "Epoch 5/50\n",
            "591/591 [==============================] - 1s 2ms/step - loss: 0.1271 - accuracy: 0.9574 - val_loss: 0.1168 - val_accuracy: 0.9589\n",
            "Epoch 6/50\n",
            "591/591 [==============================] - 1s 2ms/step - loss: 0.1213 - accuracy: 0.9581 - val_loss: 0.1123 - val_accuracy: 0.9587\n",
            "Epoch 7/50\n",
            "591/591 [==============================] - 1s 2ms/step - loss: 0.1163 - accuracy: 0.9586 - val_loss: 0.1093 - val_accuracy: 0.9600\n",
            "Epoch 8/50\n",
            "591/591 [==============================] - 1s 2ms/step - loss: 0.1125 - accuracy: 0.9595 - val_loss: 0.1059 - val_accuracy: 0.9608\n",
            "Epoch 9/50\n",
            "591/591 [==============================] - 1s 2ms/step - loss: 0.1095 - accuracy: 0.9609 - val_loss: 0.1034 - val_accuracy: 0.9624\n",
            "Epoch 10/50\n",
            "591/591 [==============================] - 1s 2ms/step - loss: 0.1055 - accuracy: 0.9624 - val_loss: 0.0998 - val_accuracy: 0.9636\n",
            "Epoch 11/50\n",
            "591/591 [==============================] - 1s 2ms/step - loss: 0.1013 - accuracy: 0.9646 - val_loss: 0.0956 - val_accuracy: 0.9657\n",
            "Epoch 12/50\n",
            "591/591 [==============================] - 2s 3ms/step - loss: 0.0974 - accuracy: 0.9655 - val_loss: 0.0932 - val_accuracy: 0.9662\n",
            "Epoch 13/50\n",
            "591/591 [==============================] - 2s 3ms/step - loss: 0.0943 - accuracy: 0.9669 - val_loss: 0.0903 - val_accuracy: 0.9682\n",
            "Epoch 14/50\n",
            "591/591 [==============================] - 1s 2ms/step - loss: 0.0916 - accuracy: 0.9681 - val_loss: 0.0879 - val_accuracy: 0.9687\n",
            "Epoch 15/50\n",
            "591/591 [==============================] - 1s 2ms/step - loss: 0.0888 - accuracy: 0.9689 - val_loss: 0.0858 - val_accuracy: 0.9692\n",
            "Epoch 16/50\n",
            "591/591 [==============================] - 1s 2ms/step - loss: 0.0863 - accuracy: 0.9696 - val_loss: 0.0836 - val_accuracy: 0.9698\n",
            "Epoch 17/50\n",
            "591/591 [==============================] - 1s 2ms/step - loss: 0.0841 - accuracy: 0.9698 - val_loss: 0.0820 - val_accuracy: 0.9700\n",
            "Epoch 18/50\n",
            "591/591 [==============================] - 1s 2ms/step - loss: 0.0818 - accuracy: 0.9703 - val_loss: 0.0798 - val_accuracy: 0.9703\n",
            "Epoch 19/50\n",
            "591/591 [==============================] - 1s 2ms/step - loss: 0.0798 - accuracy: 0.9706 - val_loss: 0.0779 - val_accuracy: 0.9701\n",
            "Epoch 20/50\n",
            "591/591 [==============================] - 1s 2ms/step - loss: 0.0777 - accuracy: 0.9709 - val_loss: 0.0765 - val_accuracy: 0.9706\n",
            "Epoch 21/50\n",
            "591/591 [==============================] - 1s 2ms/step - loss: 0.0759 - accuracy: 0.9712 - val_loss: 0.0750 - val_accuracy: 0.9705\n",
            "Epoch 22/50\n",
            "591/591 [==============================] - 1s 2ms/step - loss: 0.0743 - accuracy: 0.9716 - val_loss: 0.0735 - val_accuracy: 0.9708\n",
            "Epoch 23/50\n",
            "591/591 [==============================] - 2s 3ms/step - loss: 0.0725 - accuracy: 0.9717 - val_loss: 0.0720 - val_accuracy: 0.9713\n",
            "Epoch 24/50\n",
            "591/591 [==============================] - 2s 3ms/step - loss: 0.0711 - accuracy: 0.9721 - val_loss: 0.0711 - val_accuracy: 0.9721\n",
            "Epoch 25/50\n",
            "591/591 [==============================] - 2s 3ms/step - loss: 0.0697 - accuracy: 0.9725 - val_loss: 0.0700 - val_accuracy: 0.9716\n",
            "Epoch 26/50\n",
            "591/591 [==============================] - 1s 2ms/step - loss: 0.0686 - accuracy: 0.9726 - val_loss: 0.0683 - val_accuracy: 0.9716\n",
            "Epoch 27/50\n",
            "591/591 [==============================] - 1s 2ms/step - loss: 0.0674 - accuracy: 0.9730 - val_loss: 0.0675 - val_accuracy: 0.9717\n",
            "Epoch 28/50\n",
            "591/591 [==============================] - 1s 2ms/step - loss: 0.0666 - accuracy: 0.9735 - val_loss: 0.0667 - val_accuracy: 0.9727\n",
            "Epoch 29/50\n",
            "591/591 [==============================] - 1s 2ms/step - loss: 0.0657 - accuracy: 0.9739 - val_loss: 0.0660 - val_accuracy: 0.9727\n",
            "Epoch 30/50\n",
            "591/591 [==============================] - 1s 2ms/step - loss: 0.0650 - accuracy: 0.9742 - val_loss: 0.0652 - val_accuracy: 0.9735\n",
            "Epoch 31/50\n",
            "591/591 [==============================] - 1s 2ms/step - loss: 0.0641 - accuracy: 0.9746 - val_loss: 0.0649 - val_accuracy: 0.9735\n",
            "Epoch 32/50\n",
            "591/591 [==============================] - 1s 2ms/step - loss: 0.0635 - accuracy: 0.9751 - val_loss: 0.0650 - val_accuracy: 0.9728\n",
            "Epoch 33/50\n",
            "591/591 [==============================] - 1s 2ms/step - loss: 0.0627 - accuracy: 0.9754 - val_loss: 0.0644 - val_accuracy: 0.9730\n",
            "Epoch 34/50\n",
            "591/591 [==============================] - 2s 3ms/step - loss: 0.0620 - accuracy: 0.9758 - val_loss: 0.0633 - val_accuracy: 0.9748\n",
            "Epoch 35/50\n",
            "591/591 [==============================] - 2s 3ms/step - loss: 0.0615 - accuracy: 0.9764 - val_loss: 0.0627 - val_accuracy: 0.9749\n",
            "Epoch 36/50\n",
            "591/591 [==============================] - 1s 2ms/step - loss: 0.0607 - accuracy: 0.9764 - val_loss: 0.0618 - val_accuracy: 0.9760\n",
            "Epoch 37/50\n",
            "591/591 [==============================] - 1s 2ms/step - loss: 0.0602 - accuracy: 0.9771 - val_loss: 0.0615 - val_accuracy: 0.9757\n",
            "Epoch 38/50\n",
            "591/591 [==============================] - 1s 2ms/step - loss: 0.0599 - accuracy: 0.9769 - val_loss: 0.0614 - val_accuracy: 0.9754\n",
            "Epoch 39/50\n",
            "591/591 [==============================] - 1s 2ms/step - loss: 0.0592 - accuracy: 0.9770 - val_loss: 0.0607 - val_accuracy: 0.9757\n",
            "Epoch 40/50\n",
            "591/591 [==============================] - 1s 2ms/step - loss: 0.0589 - accuracy: 0.9773 - val_loss: 0.0608 - val_accuracy: 0.9754\n",
            "Epoch 41/50\n",
            "591/591 [==============================] - 1s 2ms/step - loss: 0.0583 - accuracy: 0.9770 - val_loss: 0.0598 - val_accuracy: 0.9765\n",
            "Epoch 42/50\n",
            "591/591 [==============================] - 1s 2ms/step - loss: 0.0577 - accuracy: 0.9778 - val_loss: 0.0592 - val_accuracy: 0.9768\n",
            "Epoch 43/50\n",
            "591/591 [==============================] - 1s 2ms/step - loss: 0.0574 - accuracy: 0.9778 - val_loss: 0.0587 - val_accuracy: 0.9762\n",
            "Epoch 44/50\n",
            "591/591 [==============================] - 1s 2ms/step - loss: 0.0568 - accuracy: 0.9778 - val_loss: 0.0583 - val_accuracy: 0.9767\n",
            "Epoch 45/50\n",
            "591/591 [==============================] - 2s 3ms/step - loss: 0.0563 - accuracy: 0.9778 - val_loss: 0.0578 - val_accuracy: 0.9768\n",
            "Epoch 46/50\n",
            "591/591 [==============================] - 2s 3ms/step - loss: 0.0558 - accuracy: 0.9781 - val_loss: 0.0577 - val_accuracy: 0.9767\n",
            "Epoch 47/50\n",
            "591/591 [==============================] - 1s 3ms/step - loss: 0.0554 - accuracy: 0.9789 - val_loss: 0.0568 - val_accuracy: 0.9773\n",
            "Epoch 48/50\n",
            "591/591 [==============================] - 1s 2ms/step - loss: 0.0547 - accuracy: 0.9789 - val_loss: 0.0561 - val_accuracy: 0.9779\n",
            "Epoch 49/50\n",
            "591/591 [==============================] - 1s 2ms/step - loss: 0.0541 - accuracy: 0.9798 - val_loss: 0.0556 - val_accuracy: 0.9782\n",
            "Epoch 50/50\n",
            "591/591 [==============================] - 1s 2ms/step - loss: 0.0535 - accuracy: 0.9806 - val_loss: 0.0553 - val_accuracy: 0.9790\n"
          ]
        }
      ]
    },
    {
      "cell_type": "code",
      "source": [
        "_, acc = model.evaluate(X_test, y_test)\n",
        "print(\"Accuracy = \", (acc * 100.0), \"%\")"
      ],
      "metadata": {
        "colab": {
          "base_uri": "https://localhost:8080/"
        },
        "id": "lD5ZP0LLQqeZ",
        "outputId": "ca860922-9327-46e9-f3a4-086b534d0d91"
      },
      "execution_count": 83,
      "outputs": [
        {
          "output_type": "stream",
          "name": "stdout",
          "text": [
            "197/197 [==============================] - 0s 1ms/step - loss: 0.0553 - accuracy: 0.9790\n",
            "Accuracy =  97.90409803390503 %\n"
          ]
        }
      ]
    },
    {
      "cell_type": "code",
      "source": [
        "loss = history.history['loss']\n",
        "val_loss = history.history['val_loss']\n",
        "epochs = range(1, len(loss) + 1)\n",
        "plt.plot(epochs, loss, 'y', label='Training loss')\n",
        "plt.plot(epochs, val_loss, 'r', label='Validation loss')\n",
        "plt.title('Training and validation loss')\n",
        "plt.xlabel('Epochs')\n",
        "plt.ylabel('Loss')\n",
        "plt.legend()\n",
        "plt.show()"
      ],
      "metadata": {
        "colab": {
          "base_uri": "https://localhost:8080/",
          "height": 472
        },
        "id": "CFab5tS5RDI6",
        "outputId": "b7ffbfe3-16c7-40b5-8261-b8d544e6566a"
      },
      "execution_count": 84,
      "outputs": [
        {
          "output_type": "display_data",
          "data": {
            "text/plain": [
              "<Figure size 640x480 with 1 Axes>"
            ],
            "image/png": "[encoded data removed]"
          },
          "metadata": {}
        }
      ]
    },
    {
      "cell_type": "code",
      "source": [
        "acc = history.history['accuracy']\n",
        "val_acc = history.history['val_accuracy']\n",
        "plt.plot(epochs, acc, 'y', label='Training acc')\n",
        "plt.plot(epochs, val_acc, 'r', label='Validation acc')\n",
        "plt.title('Training and validation accuracy')\n",
        "plt.xlabel('Epochs')\n",
        "plt.ylabel('Accuracy')\n",
        "plt.legend()\n",
        "plt.show()"
      ],
      "metadata": {
        "colab": {
          "base_uri": "https://localhost:8080/",
          "height": 472
        },
        "id": "FhMUQ9NURLAZ",
        "outputId": "f119c741-a347-4784-9344-24e36874ffdb"
      },
      "execution_count": 85,
      "outputs": [
        {
          "output_type": "display_data",
          "data": {
            "text/plain": [
              "<Figure size 640x480 with 1 Axes>"
            ],
            "image/png": "[encoded data removed]"
          },
          "metadata": {}
        }
      ]
    },
    {
      "cell_type": "code",
      "source": [
        "# Predicting the Test set results\n",
        "y_pred = model.predict(X_test)\n",
        "y_pred = (y_pred > 0.5)"
      ],
      "metadata": {
        "colab": {
          "base_uri": "https://localhost:8080/"
        },
        "id": "T34fIM0XbMSs",
        "outputId": "c67a4e5c-4b9d-4a7c-fcb4-a23e10ad7786"
      },
      "execution_count": 86,
      "outputs": [
        {
          "output_type": "stream",
          "name": "stdout",
          "text": [
            "197/197 [==============================] - 0s 1ms/step\n"
          ]
        }
      ]
    },
    {
      "cell_type": "code",
      "source": [
        "# Making the Confusion Matrix\n",
        "from sklearn.metrics import confusion_matrix, classification_report\n",
        "cm = confusion_matrix(y_test, y_pred)\n",
        "sns.heatmap(cm, annot=True, cmap=\"YlGnBu\")\n",
        "plt.xlabel('Predicted')\n",
        "plt.ylabel('True')\n",
        "plt.show()"
      ],
      "metadata": {
        "colab": {
          "base_uri": "https://localhost:8080/",
          "height": 449
        },
        "id": "i3_hJ3W1bUkq",
        "outputId": "81545d95-7eb9-4e64-de41-67c3ee2779ca"
      },
      "execution_count": 87,
      "outputs": [
        {
          "output_type": "display_data",
          "data": {
            "text/plain": [
              "<Figure size 640x480 with 2 Axes>"
            ],
            "image/png": "[encoded data removed]"
          },
          "metadata": {}
        }
      ]
    },
    {
      "cell_type": "code",
      "source": [
        "print(classification_report(y_test, y_pred))"
      ],
      "metadata": {
        "colab": {
          "base_uri": "https://localhost:8080/"
        },
        "id": "jKh4fZKWbW1H",
        "outputId": "0d1b032a-71a6-4d9a-99b6-77bbb7ceda92"
      },
      "execution_count": 88,
      "outputs": [
        {
          "output_type": "stream",
          "name": "stdout",
          "text": [
            "              precision    recall  f1-score   support\n",
            "\n",
            "           0       0.98      0.98      0.98      2970\n",
            "           1       0.98      0.98      0.98      3328\n",
            "\n",
            "    accuracy                           0.98      6298\n",
            "   macro avg       0.98      0.98      0.98      6298\n",
            "weighted avg       0.98      0.98      0.98      6298\n",
            "\n"
          ]
        }
      ]
    }
  ]
}